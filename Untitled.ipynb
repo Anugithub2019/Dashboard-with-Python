{
 "cells": [
  {
   "cell_type": "code",
   "execution_count": 1,
   "id": "ddbd48f8-67a6-4f16-b826-5d064edd7a33",
   "metadata": {},
   "outputs": [],
   "source": [
    "import pandas as pd  # pip install pandas openpyxl\n",
    "import plotly.express as px  # pip install plotly-express\n",
    "import streamlit as st  # pip install streamlit"
   ]
  },
  {
   "cell_type": "code",
   "execution_count": 2,
   "id": "dd2a1864-6263-463f-8301-22a9c946daaa",
   "metadata": {},
   "outputs": [],
   "source": [
    "st.set_page_config(page_title=\"Sales Dashboard\", page_icon=\":bar_chart:\", layout=\"wide\")\n"
   ]
  },
  {
   "cell_type": "code",
   "execution_count": 3,
   "id": "7a139306-7315-4021-a4c7-27a7d38faff0",
   "metadata": {},
   "outputs": [
    {
     "name": "stderr",
     "output_type": "stream",
     "text": [
      "2024-07-27 00:37:43.439 WARNING streamlit.runtime.caching.cache_data_api: No runtime found, using MemoryCacheStorageManager\n",
      "2024-07-27 00:37:43.524 \n",
      "  \u001b[33m\u001b[1mWarning:\u001b[0m to view this Streamlit app on a browser, run it with the following\n",
      "  command:\n",
      "\n",
      "    streamlit run /opt/anaconda3/lib/python3.11/site-packages/ipykernel_launcher.py [ARGUMENTS]\n",
      "2024-07-27 00:37:43.524 No runtime found, using MemoryCacheStorageManager\n"
     ]
    }
   ],
   "source": [
    "import streamlit as st\n",
    "import pandas as pd\n",
    "\n",
    "@st.cache_data\n",
    "def get_data_from_excel():\n",
    "    try:\n",
    "        st.write(\"Reading Excel file...\")\n",
    "        df = pd.read_excel(\n",
    "            io=\"supermarkt_sales.xlsx\",\n",
    "            engine=\"openpyxl\",\n",
    "            sheet_name=\"Sales\",\n",
    "            skiprows=3,\n",
    "            usecols=\"B:R\",\n",
    "            nrows=1000,\n",
    "        )\n",
    "        st.write(\"Excel file read successfully\")\n",
    "        \n",
    "        # Display the first few rows to check the data\n",
    "        st.write(df.head())\n",
    "\n",
    "        # Add 'hour' column to dataframe\n",
    "        df[\"hour\"] = pd.to_datetime(df[\"Time\"], format=\"%H:%M:%S\").dt.hour\n",
    "        st.write(\"Hour column added\")\n",
    "\n",
    "        return df\n",
    "    except Exception as e:\n",
    "        st.error(f\"Error loading data: {e}\")\n",
    "        return pd.DataFrame()  # Return an empty dataframe in case of error\n",
    "\n",
    "def main():\n",
    "    st.title(\"Supermarket Sales Data\")\n",
    "    df = get_data_from_excel()\n",
    "    \n",
    "    if df.empty:\n",
    "        st.warning(\"The dataframe is empty. Please check the file and the data loading logic.\")\n",
    "    else:\n",
    "        st.dataframe(df)\n",
    "\n",
    "if __name__ == \"__main__\":\n",
    "    main()\n"
   ]
  },
  {
   "cell_type": "code",
   "execution_count": null,
   "id": "8f31e145-48cb-4037-860d-03b0bdff7d38",
   "metadata": {},
   "outputs": [],
   "source": [
    "    streamlit run /opt/anaconda3/lib/python3.11/site-packages/ipykernel_launcher.py [ARGUMENTS]\n"
   ]
  },
  {
   "cell_type": "code",
   "execution_count": 11,
   "id": "9463fdd3-7fd7-43b6-8dec-9cb6710eff92",
   "metadata": {},
   "outputs": [
    {
     "data": {
      "text/html": [
       "<div>\n",
       "<style scoped>\n",
       "    .dataframe tbody tr th:only-of-type {\n",
       "        vertical-align: middle;\n",
       "    }\n",
       "\n",
       "    .dataframe tbody tr th {\n",
       "        vertical-align: top;\n",
       "    }\n",
       "\n",
       "    .dataframe thead th {\n",
       "        text-align: right;\n",
       "    }\n",
       "</style>\n",
       "<table border=\"1\" class=\"dataframe\">\n",
       "  <thead>\n",
       "    <tr style=\"text-align: right;\">\n",
       "      <th></th>\n",
       "      <th>first column</th>\n",
       "      <th>second column</th>\n",
       "    </tr>\n",
       "  </thead>\n",
       "  <tbody>\n",
       "    <tr>\n",
       "      <th>0</th>\n",
       "      <td>1</td>\n",
       "      <td>10</td>\n",
       "    </tr>\n",
       "    <tr>\n",
       "      <th>1</th>\n",
       "      <td>2</td>\n",
       "      <td>20</td>\n",
       "    </tr>\n",
       "    <tr>\n",
       "      <th>2</th>\n",
       "      <td>3</td>\n",
       "      <td>30</td>\n",
       "    </tr>\n",
       "    <tr>\n",
       "      <th>3</th>\n",
       "      <td>4</td>\n",
       "      <td>40</td>\n",
       "    </tr>\n",
       "  </tbody>\n",
       "</table>\n",
       "</div>"
      ],
      "text/plain": [
       "   first column  second column\n",
       "0             1             10\n",
       "1             2             20\n",
       "2             3             30\n",
       "3             4             40"
      ]
     },
     "execution_count": 11,
     "metadata": {},
     "output_type": "execute_result"
    }
   ],
   "source": [
    "pd.DataFrame({\n",
    "    'first column': [1, 2, 3, 4],\n",
    "    'second column': [10, 20, 30, 40]\n",
    "})"
   ]
  },
  {
   "cell_type": "code",
   "execution_count": null,
   "id": "1f5abf4a-7df6-406a-ae40-1fbd4a7432d4",
   "metadata": {},
   "outputs": [],
   "source": []
  },
  {
   "cell_type": "code",
   "execution_count": null,
   "id": "235f84d3-a860-4603-99c4-34aea30dcc1d",
   "metadata": {},
   "outputs": [],
   "source": []
  }
 ],
 "metadata": {
  "kernelspec": {
   "display_name": "Python 3 (ipykernel)",
   "language": "python",
   "name": "python3"
  },
  "language_info": {
   "codemirror_mode": {
    "name": "ipython",
    "version": 3
   },
   "file_extension": ".py",
   "mimetype": "text/x-python",
   "name": "python",
   "nbconvert_exporter": "python",
   "pygments_lexer": "ipython3",
   "version": "3.11.7"
  }
 },
 "nbformat": 4,
 "nbformat_minor": 5
}
